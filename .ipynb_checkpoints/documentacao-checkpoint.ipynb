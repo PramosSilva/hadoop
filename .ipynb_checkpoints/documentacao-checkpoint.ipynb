{
 "cells": [
  {
   "cell_type": "markdown",
   "metadata": {},
   "source": [
    "## Configurando o Linux\n",
    "\n",
    "Execute os códigos a seguir para atualizar e instalar alguns pacotes.\n",
    "```\n",
    "sudo apt-get update && sudo apt-get upgrade\n",
    "sudo apt-get install build-essential ssh lzop git rsync curl\n",
    "sudo apt-get install python-dev python-setuptools\n",
    "sudo apt-get install libcurl4-openssl-dev\n",
    "sudo easy_install pip\n",
    "sudo pip install virtualenv virtualenvwrapper python-dateutil\n",
    "\n",
    "```\n",
    "\n",
    "## Criando usuário para o Hadoop\n",
    "\n",
    "Para garantir a segurança é recomendado criar um usuário sem acesso como administrador.\n",
    "\n",
    "```\n",
    "sudo addgroup hadoop\n",
    "sudo adduser --ingroup hadoop hadoop\n",
    "\n",
    "```\n"
   ]
  }
 ],
 "metadata": {
  "kernelspec": {
   "display_name": "Python 3",
   "language": "python",
   "name": "python3"
  },
  "language_info": {
   "codemirror_mode": {
    "name": "ipython",
    "version": 3
   },
   "file_extension": ".py",
   "mimetype": "text/x-python",
   "name": "python",
   "nbconvert_exporter": "python",
   "pygments_lexer": "ipython3",
   "version": "3.8.2"
  }
 },
 "nbformat": 4,
 "nbformat_minor": 4
}
