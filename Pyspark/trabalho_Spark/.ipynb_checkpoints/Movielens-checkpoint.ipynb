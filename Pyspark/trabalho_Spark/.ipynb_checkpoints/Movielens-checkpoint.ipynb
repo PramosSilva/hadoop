{
 "cells": [
  {
   "cell_type": "code",
   "execution_count": 1,
   "metadata": {},
   "outputs": [],
   "source": [
    "# Inicializando as bibliotecas \n",
    "\n",
    "from pyspark.sql.types import StructType, IntegerType, DateType, StringType,StructField, FloatType\n",
    "from pyspark.sql.functions import col, isnan, when, count\n",
    "from pyspark import SparkContext, SparkConf\n",
    "from pyspark.sql import SparkSession"
   ]
  },
  {
   "cell_type": "markdown",
   "metadata": {},
   "source": [
    "Uma SparkSession pode ser usada para criar DataFrame, registrar DataFrame como tabelas, executar SQL em tabelas, armazenar tabelas em cache e ler arquivos em parquet. Para criar uma sessão Spark, siga o padrão de construção abaixo"
   ]
  },
  {
   "cell_type": "code",
   "execution_count": 2,
   "metadata": {},
   "outputs": [],
   "source": [
    "spark = SparkSession.builder.appName('recnn').getOrCreate()"
   ]
  },
  {
   "cell_type": "code",
   "execution_count": 3,
   "metadata": {},
   "outputs": [],
   "source": [
    "schema = StructType([StructField('user_id', IntegerType()),\n",
    "                     StructField('item_id', IntegerType()),\n",
    "                     StructField('rating', IntegerType()),\n",
    "                     StructField('item', StringType()),\n",
    "                    ])"
   ]
  },
  {
   "cell_type": "code",
   "execution_count": 4,
   "metadata": {},
   "outputs": [],
   "source": [
    "# Importando o dataset Rafael\n",
    "\n",
    "data = spark.read.schema(schema).option(\"header\", True).format('csv').load('recomendacao.csv')"
   ]
  },
  {
   "cell_type": "code",
   "execution_count": 5,
   "metadata": {},
   "outputs": [],
   "source": [
    "# Importando o dataset Evancleide\n",
    "\n",
    "# data = spark.read \\\n",
    "#         .schema(schema)\\\n",
    "#         .format(\"csv\")\\\n",
    "#         .option(\"header\",True)\\\n",
    "#         .load(\"C:/Users/evanc/Documents/00_Pos_Big Data e Ciencia de Dados/014_Solucoes Proc Paralelo e Distribuido/Trabalho_Spark/recomendacao.csv\")"
   ]
  },
  {
   "cell_type": "code",
   "execution_count": 6,
   "metadata": {},
   "outputs": [
    {
     "data": {
      "text/plain": [
       "pyspark.sql.dataframe.DataFrame"
      ]
     },
     "execution_count": 6,
     "metadata": {},
     "output_type": "execute_result"
    }
   ],
   "source": [
    "type(data)"
   ]
  },
  {
   "cell_type": "code",
   "execution_count": 7,
   "metadata": {},
   "outputs": [
    {
     "name": "stdout",
     "output_type": "stream",
     "text": [
      "+-------+------------------+-----------------+------------------+--------------------+\n",
      "|summary|           user_id|          item_id|            rating|                item|\n",
      "+-------+------------------+-----------------+------------------+--------------------+\n",
      "|  count|             99999|            99999|             99999|               99547|\n",
      "|   mean| 462.4874148741487|425.5319653196532|3.5298652986529864|                null|\n",
      "| stddev|266.61442141060337|330.7995012117287| 1.125677980540639|                null|\n",
      "|    min|                 1|                1|                 1|'Til There Was Yo...|\n",
      "|    max|               943|             1682|                 5|Á köldum klaka (C...|\n",
      "+-------+------------------+-----------------+------------------+--------------------+\n",
      "\n"
     ]
    }
   ],
   "source": [
    "data.describe().show()"
   ]
  },
  {
   "cell_type": "code",
   "execution_count": 8,
   "metadata": {},
   "outputs": [
    {
     "name": "stdout",
     "output_type": "stream",
     "text": [
      "+-------+-------+------+----+\n",
      "|user_id|item_id|rating|item|\n",
      "+-------+-------+------+----+\n",
      "|      0|      0|     0| 452|\n",
      "+-------+-------+------+----+\n",
      "\n",
      "+-----+\n",
      "|count|\n",
      "+-----+\n",
      "|99999|\n",
      "+-----+\n",
      "\n"
     ]
    }
   ],
   "source": [
    "# Verificando a quantidade de dados nulos.\n",
    "\n",
    "data.select([count(when(isnan(c) | col(c).isNull(), c)).alias(c) for c in data.columns]).show()\n",
    "\n",
    "data.groupBy().count().show()"
   ]
  },
  {
   "cell_type": "code",
   "execution_count": 9,
   "metadata": {},
   "outputs": [
    {
     "name": "stdout",
     "output_type": "stream",
     "text": [
      "+-------+-------+------+--------------------+\n",
      "|user_id|item_id|rating|                item|\n",
      "+-------+-------+------+--------------------+\n",
      "|    186|    302|     3|L.A. Confidential...|\n",
      "|     22|    377|     1| Heavyweights (1994)|\n",
      "|    244|     51|     2|Legends of the Fa...|\n",
      "|    166|    346|     1| Jackie Brown (1997)|\n",
      "|    298|    474|     4|Dr. Strangelove o...|\n",
      "+-------+-------+------+--------------------+\n",
      "only showing top 5 rows\n",
      "\n",
      "+-------+------------------+-----------------+------------------+--------------------+\n",
      "|summary|           user_id|          item_id|            rating|                item|\n",
      "+-------+------------------+-----------------+------------------+--------------------+\n",
      "|  count|             99999|            99999|             99999|               99547|\n",
      "|   mean| 462.4874148741487|425.5319653196532|3.5298652986529864|                null|\n",
      "| stddev|266.61442141060337|330.7995012117287| 1.125677980540639|                null|\n",
      "|    min|                 1|                1|                 1|'Til There Was Yo...|\n",
      "|    25%|               254|              175|                 3|                null|\n",
      "|    50%|               447|              322|                 4|                null|\n",
      "|    75%|               682|              631|                 4|                null|\n",
      "|    max|               943|             1682|                 5|Á köldum klaka (C...|\n",
      "+-------+------------------+-----------------+------------------+--------------------+\n",
      "\n"
     ]
    }
   ],
   "source": [
    "data.show(5)\n",
    "data.summary().show()"
   ]
  },
  {
   "cell_type": "code",
   "execution_count": 10,
   "metadata": {},
   "outputs": [
    {
     "data": {
      "text/plain": [
       "DataFrame[summary: string, user_id: string, item_id: string, rating: string, item: string]"
      ]
     },
     "execution_count": 10,
     "metadata": {},
     "output_type": "execute_result"
    }
   ],
   "source": [
    "data.describe()"
   ]
  },
  {
   "cell_type": "markdown",
   "metadata": {},
   "source": [
    "3) Remover os dados nulos de cada coluna."
   ]
  },
  {
   "cell_type": "code",
   "execution_count": 11,
   "metadata": {},
   "outputs": [],
   "source": [
    "data=data.where(col(\"user_id\").isNotNull())"
   ]
  },
  {
   "cell_type": "code",
   "execution_count": 12,
   "metadata": {},
   "outputs": [],
   "source": [
    "data=data.where(col(\"item_id\").isNotNull())"
   ]
  },
  {
   "cell_type": "code",
   "execution_count": 13,
   "metadata": {},
   "outputs": [],
   "source": [
    "data=data.where(col(\"rating\").isNotNull())"
   ]
  },
  {
   "cell_type": "code",
   "execution_count": 14,
   "metadata": {},
   "outputs": [],
   "source": [
    "data=data.where(col(\"item\").isNotNull())"
   ]
  },
  {
   "cell_type": "markdown",
   "metadata": {},
   "source": [
    "Dados após limpeza"
   ]
  },
  {
   "cell_type": "code",
   "execution_count": 15,
   "metadata": {},
   "outputs": [
    {
     "name": "stdout",
     "output_type": "stream",
     "text": [
      "+-------+-------+------+--------------------+\n",
      "|user_id|item_id|rating|                item|\n",
      "+-------+-------+------+--------------------+\n",
      "|    186|    302|     3|L.A. Confidential...|\n",
      "|     22|    377|     1| Heavyweights (1994)|\n",
      "|    244|     51|     2|Legends of the Fa...|\n",
      "|    166|    346|     1| Jackie Brown (1997)|\n",
      "|    298|    474|     4|Dr. Strangelove o...|\n",
      "+-------+-------+------+--------------------+\n",
      "only showing top 5 rows\n",
      "\n",
      "+-------+-----------------+------------------+------------------+--------------------+\n",
      "|summary|          user_id|           item_id|            rating|                item|\n",
      "+-------+-----------------+------------------+------------------+--------------------+\n",
      "|  count|            99547|             99547|             99547|               99547|\n",
      "|   mean|462.4214692557284| 427.4595819060343|3.5282831225451297|                null|\n",
      "| stddev| 266.581647089376|330.30761865180295|1.1262548341580603|                null|\n",
      "|    min|                1|                 2|                 1|'Til There Was Yo...|\n",
      "|    25%|              254|               176|                 3|                null|\n",
      "|    50%|              447|               323|                 4|                null|\n",
      "|    75%|              682|               633|                 4|                null|\n",
      "|    max|              943|              1682|                 5|Á köldum klaka (C...|\n",
      "+-------+-----------------+------------------+------------------+--------------------+\n",
      "\n"
     ]
    }
   ],
   "source": [
    "data.show(5)\n",
    "data.summary().show()"
   ]
  },
  {
   "cell_type": "code",
   "execution_count": 16,
   "metadata": {},
   "outputs": [],
   "source": [
    "##Criação de view para usar o sql.\n",
    "data.createOrReplaceTempView('viewdata')"
   ]
  },
  {
   "cell_type": "code",
   "execution_count": 17,
   "metadata": {},
   "outputs": [
    {
     "name": "stdout",
     "output_type": "stream",
     "text": [
      "+-------+-------+------+--------------------+\n",
      "|user_id|item_id|rating|                item|\n",
      "+-------+-------+------+--------------------+\n",
      "|    186|    302|     3|L.A. Confidential...|\n",
      "|     22|    377|     1| Heavyweights (1994)|\n",
      "|    244|     51|     2|Legends of the Fa...|\n",
      "|    166|    346|     1| Jackie Brown (1997)|\n",
      "|    298|    474|     4|Dr. Strangelove o...|\n",
      "+-------+-------+------+--------------------+\n",
      "only showing top 5 rows\n",
      "\n"
     ]
    }
   ],
   "source": [
    "#Mostrando view criada\n",
    "spark.sql('select * from viewdata').show(5)"
   ]
  },
  {
   "cell_type": "markdown",
   "metadata": {},
   "source": [
    "Retorno das perguntas"
   ]
  },
  {
   "cell_type": "code",
   "execution_count": 18,
   "metadata": {},
   "outputs": [
    {
     "name": "stdout",
     "output_type": "stream",
     "text": [
      "+-------+--------------------+-------------+\n",
      "|item_id|                item|qtd_assistido|\n",
      "+-------+--------------------+-------------+\n",
      "|     50|    Star Wars (1977)|          583|\n",
      "|    258|      Contact (1997)|          509|\n",
      "|    100|        Fargo (1996)|          508|\n",
      "|    181|Return of the Jed...|          507|\n",
      "|    294|    Liar Liar (1997)|          485|\n",
      "|    286|English Patient, ...|          481|\n",
      "|    288|       Scream (1996)|          478|\n",
      "|    300|Air Force One (1997)|          431|\n",
      "|    121|Independence Day ...|          429|\n",
      "|    174|Raiders of the Lo...|          420|\n",
      "+-------+--------------------+-------------+\n",
      "only showing top 10 rows\n",
      "\n"
     ]
    }
   ],
   "source": [
    "#Verificação da quantidade de vezes cada filme foi assistido em ordem decrescente. Exibindo os 10 mais.\n",
    "\n",
    "spark.sql('select item_id , item , count(item) as qtd_assistido \\\n",
    "          from viewdata \\\n",
    "          group by item_id, item \\\n",
    "          order by qtd_assistido desc').show(10)\n"
   ]
  },
  {
   "cell_type": "markdown",
   "metadata": {},
   "source": [
    "4. 1) Qual o filme mais assistido?"
   ]
  },
  {
   "cell_type": "code",
   "execution_count": 19,
   "metadata": {},
   "outputs": [
    {
     "name": "stdout",
     "output_type": "stream",
     "text": [
      "+--------------------+---+-------------+\n",
      "|Filme_Mais_Assistido|ID |qtd_assistido|\n",
      "+--------------------+---+-------------+\n",
      "|Star Wars (1977)    |50 |583          |\n",
      "+--------------------+---+-------------+\n",
      "\n"
     ]
    }
   ],
   "source": [
    "spark.sql('select * \\\n",
    "            from (select item as Filme_Mais_Assistido, item_id as ID, count(item_id) as qtd_assistido \\\n",
    "                  from viewdata \\\n",
    "                  group by ID, Filme_Mais_Assistido) viewdata \\\n",
    "            where qtd_assistido== \\\n",
    "                (select max(contador) \\\n",
    "                 from (select count(item_id) as contador\\\n",
    "                       from viewdata \\\n",
    "                       group by item_id ) viewdata) ').show(truncate=False)"
   ]
  },
  {
   "cell_type": "code",
   "execution_count": 20,
   "metadata": {},
   "outputs": [
    {
     "data": {
      "text/html": [
       "<div>\n",
       "<style scoped>\n",
       "    .dataframe tbody tr th:only-of-type {\n",
       "        vertical-align: middle;\n",
       "    }\n",
       "\n",
       "    .dataframe tbody tr th {\n",
       "        vertical-align: top;\n",
       "    }\n",
       "\n",
       "    .dataframe thead th {\n",
       "        text-align: right;\n",
       "    }\n",
       "</style>\n",
       "<table border=\"1\" class=\"dataframe\">\n",
       "  <thead>\n",
       "    <tr style=\"text-align: right;\">\n",
       "      <th></th>\n",
       "      <th>item</th>\n",
       "      <th>item_id</th>\n",
       "      <th>count</th>\n",
       "    </tr>\n",
       "  </thead>\n",
       "  <tbody>\n",
       "    <tr>\n",
       "      <th>0</th>\n",
       "      <td>Star Wars (1977)</td>\n",
       "      <td>50</td>\n",
       "      <td>583</td>\n",
       "    </tr>\n",
       "  </tbody>\n",
       "</table>\n",
       "</div>"
      ],
      "text/plain": [
       "               item  item_id  count\n",
       "0  Star Wars (1977)       50    583"
      ]
     },
     "execution_count": 20,
     "metadata": {},
     "output_type": "execute_result"
    }
   ],
   "source": [
    "# Qual o filme mais assistido?\n",
    "\n",
    "cont_filme = data.groupBy([\"item\", \"item_id\"]).count().sort('count', ascending=False)\n",
    "cont_filme.limit(1).toPandas()"
   ]
  },
  {
   "cell_type": "code",
   "execution_count": null,
   "metadata": {},
   "outputs": [],
   "source": []
  },
  {
   "cell_type": "code",
   "execution_count": 21,
   "metadata": {},
   "outputs": [
    {
     "name": "stdout",
     "output_type": "stream",
     "text": [
      "+----------+---------+\n",
      "|ID_Usuario|qtd_votos|\n",
      "+----------+---------+\n",
      "|       405|      737|\n",
      "|       655|      684|\n",
      "|        13|      635|\n",
      "|       450|      539|\n",
      "|       276|      517|\n",
      "|       416|      492|\n",
      "|       537|      489|\n",
      "|       303|      483|\n",
      "|       234|      479|\n",
      "|       393|      447|\n",
      "+----------+---------+\n",
      "only showing top 10 rows\n",
      "\n"
     ]
    }
   ],
   "source": [
    "#Verificação da quantidade de votos dos usuários em ordem decrescente. Exibindo os 10 que mais pontuaram os filmes\n",
    "#user_id\n",
    "\n",
    "spark.sql('select user_id as ID_Usuario , count(user_id) as qtd_votos \\\n",
    "          from viewdata \\\n",
    "          group by ID_Usuario \\\n",
    "          order by qtd_votos desc').show(10)"
   ]
  },
  {
   "cell_type": "code",
   "execution_count": 22,
   "metadata": {},
   "outputs": [
    {
     "data": {
      "text/html": [
       "<div>\n",
       "<style scoped>\n",
       "    .dataframe tbody tr th:only-of-type {\n",
       "        vertical-align: middle;\n",
       "    }\n",
       "\n",
       "    .dataframe tbody tr th {\n",
       "        vertical-align: top;\n",
       "    }\n",
       "\n",
       "    .dataframe thead th {\n",
       "        text-align: right;\n",
       "    }\n",
       "</style>\n",
       "<table border=\"1\" class=\"dataframe\">\n",
       "  <thead>\n",
       "    <tr style=\"text-align: right;\">\n",
       "      <th></th>\n",
       "      <th>count</th>\n",
       "    </tr>\n",
       "    <tr>\n",
       "      <th>user_id</th>\n",
       "      <th></th>\n",
       "    </tr>\n",
       "  </thead>\n",
       "  <tbody>\n",
       "    <tr>\n",
       "      <th>405</th>\n",
       "      <td>737</td>\n",
       "    </tr>\n",
       "    <tr>\n",
       "      <th>655</th>\n",
       "      <td>684</td>\n",
       "    </tr>\n",
       "    <tr>\n",
       "      <th>13</th>\n",
       "      <td>635</td>\n",
       "    </tr>\n",
       "    <tr>\n",
       "      <th>450</th>\n",
       "      <td>539</td>\n",
       "    </tr>\n",
       "    <tr>\n",
       "      <th>276</th>\n",
       "      <td>517</td>\n",
       "    </tr>\n",
       "    <tr>\n",
       "      <th>416</th>\n",
       "      <td>492</td>\n",
       "    </tr>\n",
       "    <tr>\n",
       "      <th>537</th>\n",
       "      <td>489</td>\n",
       "    </tr>\n",
       "    <tr>\n",
       "      <th>303</th>\n",
       "      <td>483</td>\n",
       "    </tr>\n",
       "    <tr>\n",
       "      <th>234</th>\n",
       "      <td>479</td>\n",
       "    </tr>\n",
       "    <tr>\n",
       "      <th>393</th>\n",
       "      <td>447</td>\n",
       "    </tr>\n",
       "  </tbody>\n",
       "</table>\n",
       "</div>"
      ],
      "text/plain": [
       "         count\n",
       "user_id       \n",
       "405        737\n",
       "655        684\n",
       "13         635\n",
       "450        539\n",
       "276        517\n",
       "416        492\n",
       "537        489\n",
       "303        483\n",
       "234        479\n",
       "393        447"
      ]
     },
     "execution_count": 22,
     "metadata": {},
     "output_type": "execute_result"
    }
   ],
   "source": [
    "# Quantidade de votos dos usuários.\n",
    "\n",
    "cont_user = data.groupBy(\"user_id\").count().sort('count', ascending=False)\n",
    "cont_user.limit(10).toPandas().set_index('user_id')"
   ]
  },
  {
   "cell_type": "markdown",
   "metadata": {},
   "source": [
    "4. 2) Qual o usuário que mais pontuou os filmes?"
   ]
  },
  {
   "cell_type": "code",
   "execution_count": 23,
   "metadata": {},
   "outputs": [
    {
     "name": "stdout",
     "output_type": "stream",
     "text": [
      "+-----------------------+----------+\n",
      "|ID_Usuario_Mais_Pontuou|Total_Voto|\n",
      "+-----------------------+----------+\n",
      "|405                    |737       |\n",
      "+-----------------------+----------+\n",
      "\n"
     ]
    }
   ],
   "source": [
    "spark.sql('select * \\\n",
    "            from (select user_id as ID_Usuario_Mais_Pontuou, count(user_id) as Total_Voto \\\n",
    "                  from viewdata \\\n",
    "                  group by ID_Usuario_Mais_Pontuou) viewdata \\\n",
    "            where Total_Voto== \\\n",
    "                (select max(contador) \\\n",
    "                 from (select count(user_id) as contador\\\n",
    "                       from viewdata \\\n",
    "                       group by user_id ) viewdata) ').show(truncate=False)"
   ]
  },
  {
   "cell_type": "markdown",
   "metadata": {},
   "source": [
    "4. 3) Quantos usuários deram nota(rating) = 5?"
   ]
  },
  {
   "cell_type": "code",
   "execution_count": 24,
   "metadata": {},
   "outputs": [
    {
     "name": "stdout",
     "output_type": "stream",
     "text": [
      "O total de 927 usuarios deram notas(rating)=5.\n"
     ]
    }
   ],
   "source": [
    "rating_5 = data.groupBy(['user_id','rating']).count()\n",
    "total = rating_5[rating_5['rating'] == 5].count()\n",
    "print('O total de',total, 'usuarios deram notas(rating)=5.')"
   ]
  },
  {
   "cell_type": "markdown",
   "metadata": {},
   "source": [
    "4. 4) Agrupe o Dataset por user e some todas as suas notas. Qual o usuário possui a maior soma dos rating?"
   ]
  },
  {
   "cell_type": "code",
   "execution_count": 25,
   "metadata": {},
   "outputs": [
    {
     "data": {
      "text/html": [
       "<div>\n",
       "<style scoped>\n",
       "    .dataframe tbody tr th:only-of-type {\n",
       "        vertical-align: middle;\n",
       "    }\n",
       "\n",
       "    .dataframe tbody tr th {\n",
       "        vertical-align: top;\n",
       "    }\n",
       "\n",
       "    .dataframe thead th {\n",
       "        text-align: right;\n",
       "    }\n",
       "</style>\n",
       "<table border=\"1\" class=\"dataframe\">\n",
       "  <thead>\n",
       "    <tr style=\"text-align: right;\">\n",
       "      <th></th>\n",
       "      <th>Total rating</th>\n",
       "    </tr>\n",
       "    <tr>\n",
       "      <th>user_id</th>\n",
       "      <th></th>\n",
       "    </tr>\n",
       "  </thead>\n",
       "  <tbody>\n",
       "    <tr>\n",
       "      <th>450</th>\n",
       "      <td>2083</td>\n",
       "    </tr>\n",
       "  </tbody>\n",
       "</table>\n",
       "</div>"
      ],
      "text/plain": [
       "         Total rating\n",
       "user_id              \n",
       "450              2083"
      ]
     },
     "execution_count": 25,
     "metadata": {},
     "output_type": "execute_result"
    }
   ],
   "source": [
    "user_max = data.groupBy('user_id').sum('rating').sort('sum(rating)', ascending=False)\n",
    "user_max.limit(1).toPandas().set_index('user_id').rename(columns={'sum(rating)':'Total rating'})"
   ]
  },
  {
   "cell_type": "markdown",
   "metadata": {},
   "source": [
    "5) Gerar Dataset tratado para o algoritmo de recomendação no formato csv com o schema user_id, item_id, rating."
   ]
  },
  {
   "cell_type": "code",
   "execution_count": 26,
   "metadata": {},
   "outputs": [],
   "source": [
    "# Existe varios meios de exportar, neste trabalho foi selecionado um deles.\n",
    "\n",
    "# data[['user_id', 'item_id', 'rating']].write.csv('dataset.csv')\n",
    "\n",
    "data[['user_id', 'item_id', 'rating']].toPandas().to_csv('dataset.csv')"
   ]
  },
  {
   "cell_type": "code",
   "execution_count": 27,
   "metadata": {},
   "outputs": [],
   "source": [
    "#soma total de notas de cada filme e ordena em ordem decrescente.\n",
    "# data.select(data.rating, data.item, data.item_id)\\\n",
    "# .groupBy('item_id', 'item').sum('rating').withColumnRenamed(\"sum(rating)\", \"total_avaliacao\")\\\n",
    "# .orderBy(col(\"total_avaliacao\").desc()).show(truncate=False)"
   ]
  }
 ],
 "metadata": {
  "kernelspec": {
   "display_name": "Python 3",
   "language": "python",
   "name": "python3"
  },
  "language_info": {
   "codemirror_mode": {
    "name": "ipython",
    "version": 3
   },
   "file_extension": ".py",
   "mimetype": "text/x-python",
   "name": "python",
   "nbconvert_exporter": "python",
   "pygments_lexer": "ipython3",
   "version": "3.8.5"
  }
 },
 "nbformat": 4,
 "nbformat_minor": 4
}
