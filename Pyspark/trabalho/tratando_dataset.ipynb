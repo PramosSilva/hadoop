{
 "cells": [
  {
   "cell_type": "markdown",
   "metadata": {},
   "source": [
    "Filtragem colaborativa  \n",
    "Filtragem baseada em item.  \n",
    "Market basquet analize - ferramenta de regras de associação.  \n",
    "\n",
    "Por que um algoritmo de recomendação é importante. O que é um algoritmo de recomendação. Quais a técnicas utilizadas.  \n",
    "\n",
    "Referencias  \n",
    "https://www.kaggle.com/tientd95/pyspark-for-data-science"
   ]
  },
  {
   "cell_type": "code",
   "execution_count": 1,
   "metadata": {},
   "outputs": [],
   "source": [
    "# Inicializando as bibliotecas \n",
    "\n",
    "from pyspark import SparkContext, SparkConf\n",
    "from pyspark.sql.types import StructType, IntegerType, DateType, StringType,StructField, FloatType"
   ]
  },
  {
   "cell_type": "code",
   "execution_count": 2,
   "metadata": {},
   "outputs": [],
   "source": [
    "# Create SparkSession\n",
    "\n",
    "spark = SparkSession.builder.appName('recomendacao').getOrCreate()"
   ]
  },
  {
   "cell_type": "code",
   "execution_count": 3,
   "metadata": {},
   "outputs": [],
   "source": [
    "# Convertendo os tipos das variaveis\n",
    "\n",
    "schema = StructType([StructField('user_id', IntegerType()),\n",
    "                     StructField('item_id', IntegerType()),\n",
    "                     StructField('rating', IntegerType()),\n",
    "                     StructField('item', StringType())\n",
    "                    ])"
   ]
  },
  {
   "cell_type": "code",
   "execution_count": 4,
   "metadata": {},
   "outputs": [],
   "source": [
    "# Importando o dataset\n",
    "\n",
    "df = spark.read.schema(schema).option(\"header\", True).format('csv').load('recomendacao.csv')"
   ]
  },
  {
   "cell_type": "code",
   "execution_count": 5,
   "metadata": {},
   "outputs": [
    {
     "data": {
      "text/html": [
       "<div>\n",
       "<style scoped>\n",
       "    .dataframe tbody tr th:only-of-type {\n",
       "        vertical-align: middle;\n",
       "    }\n",
       "\n",
       "    .dataframe tbody tr th {\n",
       "        vertical-align: top;\n",
       "    }\n",
       "\n",
       "    .dataframe thead th {\n",
       "        text-align: right;\n",
       "    }\n",
       "</style>\n",
       "<table border=\"1\" class=\"dataframe\">\n",
       "  <thead>\n",
       "    <tr style=\"text-align: right;\">\n",
       "      <th></th>\n",
       "      <th>user_id</th>\n",
       "      <th>item_id</th>\n",
       "      <th>rating</th>\n",
       "      <th>item</th>\n",
       "    </tr>\n",
       "  </thead>\n",
       "  <tbody>\n",
       "    <tr>\n",
       "      <th>0</th>\n",
       "      <td>186</td>\n",
       "      <td>302</td>\n",
       "      <td>3</td>\n",
       "      <td>L.A. Confidential (1997)</td>\n",
       "    </tr>\n",
       "    <tr>\n",
       "      <th>1</th>\n",
       "      <td>22</td>\n",
       "      <td>377</td>\n",
       "      <td>1</td>\n",
       "      <td>Heavyweights (1994)</td>\n",
       "    </tr>\n",
       "    <tr>\n",
       "      <th>2</th>\n",
       "      <td>244</td>\n",
       "      <td>51</td>\n",
       "      <td>2</td>\n",
       "      <td>Legends of the Fall (1994)</td>\n",
       "    </tr>\n",
       "    <tr>\n",
       "      <th>3</th>\n",
       "      <td>166</td>\n",
       "      <td>346</td>\n",
       "      <td>1</td>\n",
       "      <td>Jackie Brown (1997)</td>\n",
       "    </tr>\n",
       "    <tr>\n",
       "      <th>4</th>\n",
       "      <td>298</td>\n",
       "      <td>474</td>\n",
       "      <td>4</td>\n",
       "      <td>Dr. Strangelove or: How I Learned to Stop Worr...</td>\n",
       "    </tr>\n",
       "  </tbody>\n",
       "</table>\n",
       "</div>"
      ],
      "text/plain": [
       "   user_id  item_id  rating                                               item\n",
       "0      186      302       3                           L.A. Confidential (1997)\n",
       "1       22      377       1                                Heavyweights (1994)\n",
       "2      244       51       2                         Legends of the Fall (1994)\n",
       "3      166      346       1                                Jackie Brown (1997)\n",
       "4      298      474       4  Dr. Strangelove or: How I Learned to Stop Worr..."
      ]
     },
     "execution_count": 5,
     "metadata": {},
     "output_type": "execute_result"
    }
   ],
   "source": [
    "df.limit(5).toPandas()"
   ]
  },
  {
   "cell_type": "code",
   "execution_count": 6,
   "metadata": {},
   "outputs": [
    {
     "name": "stdout",
     "output_type": "stream",
     "text": [
      "+-------+-------+------+--------------------+\n",
      "|user_id|item_id|rating|                item|\n",
      "+-------+-------+------+--------------------+\n",
      "|    186|    302|     3|L.A. Confidential...|\n",
      "|     22|    377|     1| Heavyweights (1994)|\n",
      "|    244|     51|     2|Legends of the Fa...|\n",
      "|    166|    346|     1| Jackie Brown (1997)|\n",
      "|    298|    474|     4|Dr. Strangelove o...|\n",
      "+-------+-------+------+--------------------+\n",
      "only showing top 5 rows\n",
      "\n"
     ]
    }
   ],
   "source": [
    "# Exibindo o dataset\n",
    "\n",
    "df.show(5)"
   ]
  },
  {
   "cell_type": "code",
   "execution_count": 7,
   "metadata": {},
   "outputs": [
    {
     "data": {
      "text/plain": [
       "['user_id', 'item_id', 'rating', 'item']"
      ]
     },
     "execution_count": 7,
     "metadata": {},
     "output_type": "execute_result"
    }
   ],
   "source": [
    "# Verificando todas as colunas.\n",
    "\n",
    "df.columns"
   ]
  },
  {
   "cell_type": "code",
   "execution_count": 8,
   "metadata": {},
   "outputs": [
    {
     "name": "stdout",
     "output_type": "stream",
     "text": [
      "root\n",
      " |-- user_id: integer (nullable = true)\n",
      " |-- item_id: integer (nullable = true)\n",
      " |-- rating: integer (nullable = true)\n",
      " |-- item: string (nullable = true)\n",
      "\n"
     ]
    }
   ],
   "source": [
    "# Verificando o Schema.\n",
    "\n",
    "df.printSchema()"
   ]
  },
  {
   "cell_type": "code",
   "execution_count": 11,
   "metadata": {},
   "outputs": [
    {
     "data": {
      "text/html": [
       "<div>\n",
       "<style scoped>\n",
       "    .dataframe tbody tr th:only-of-type {\n",
       "        vertical-align: middle;\n",
       "    }\n",
       "\n",
       "    .dataframe tbody tr th {\n",
       "        vertical-align: top;\n",
       "    }\n",
       "\n",
       "    .dataframe thead th {\n",
       "        text-align: right;\n",
       "    }\n",
       "</style>\n",
       "<table border=\"1\" class=\"dataframe\">\n",
       "  <thead>\n",
       "    <tr style=\"text-align: right;\">\n",
       "      <th></th>\n",
       "      <th>item</th>\n",
       "      <th>item_id</th>\n",
       "      <th>count</th>\n",
       "    </tr>\n",
       "  </thead>\n",
       "  <tbody>\n",
       "    <tr>\n",
       "      <th>0</th>\n",
       "      <td>Star Wars (1977)</td>\n",
       "      <td>50</td>\n",
       "      <td>583</td>\n",
       "    </tr>\n",
       "  </tbody>\n",
       "</table>\n",
       "</div>"
      ],
      "text/plain": [
       "               item  item_id  count\n",
       "0  Star Wars (1977)       50    583"
      ]
     },
     "execution_count": 11,
     "metadata": {},
     "output_type": "execute_result"
    }
   ],
   "source": [
    "# Qual o filme mais assistido?\n",
    "\n",
    "cont_filme = df.groupBy([\"item\", \"item_id\"]).count().sort('count', ascending=False)\n",
    "cont_filme.limit(1).toPandas()"
   ]
  },
  {
   "cell_type": "code",
   "execution_count": 60,
   "metadata": {},
   "outputs": [
    {
     "name": "stdout",
     "output_type": "stream",
     "text": [
      "+--------------------+-------+-----+\n",
      "|                item|item_id|count|\n",
      "+--------------------+-------+-----+\n",
      "|    Star Wars (1977)|     50|  583|\n",
      "|      Contact (1997)|    258|  509|\n",
      "|        Fargo (1996)|    100|  508|\n",
      "|Return of the Jed...|    181|  507|\n",
      "|    Liar Liar (1997)|    294|  485|\n",
      "|English Patient, ...|    286|  481|\n",
      "|       Scream (1996)|    288|  478|\n",
      "|                null|      1|  452|\n",
      "|Air Force One (1997)|    300|  431|\n",
      "|Independence Day ...|    121|  429|\n",
      "|Raiders of the Lo...|    174|  420|\n",
      "|Godfather, The (1...|    127|  413|\n",
      "| Pulp Fiction (1994)|     56|  394|\n",
      "|Twelve Monkeys (1...|      7|  392|\n",
      "|Silence of the La...|     98|  390|\n",
      "|Jerry Maguire (1996)|    237|  384|\n",
      "|    Rock, The (1996)|    117|  378|\n",
      "|Empire Strikes Ba...|    172|  367|\n",
      "|Star Trek: First ...|    222|  365|\n",
      "|      Titanic (1997)|    313|  350|\n",
      "+--------------------+-------+-----+\n",
      "only showing top 20 rows\n",
      "\n"
     ]
    }
   ],
   "source": [
    "cont_filme.show()"
   ]
  }
 ],
 "metadata": {
  "kernelspec": {
   "display_name": "Python 3",
   "language": "python",
   "name": "python3"
  },
  "language_info": {
   "codemirror_mode": {
    "name": "ipython",
    "version": 3
   },
   "file_extension": ".py",
   "mimetype": "text/x-python",
   "name": "python",
   "nbconvert_exporter": "python",
   "pygments_lexer": "ipython3",
   "version": "3.8.5"
  }
 },
 "nbformat": 4,
 "nbformat_minor": 4
}
