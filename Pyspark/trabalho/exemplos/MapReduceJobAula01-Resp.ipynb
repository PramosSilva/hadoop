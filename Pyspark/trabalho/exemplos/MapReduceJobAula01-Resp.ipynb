{
 "cells": [
  {
   "cell_type": "markdown",
   "metadata": {},
   "source": [
    "### Documentação MRJob -> https://mrjob.readthedocs.io/en/latest/index.html"
   ]
  },
  {
   "cell_type": "markdown",
   "metadata": {},
   "source": [
    "### Job MapReduce para contar palavras"
   ]
  },
  {
   "cell_type": "code",
   "execution_count": 3,
   "metadata": {},
   "outputs": [
    {
     "name": "stdout",
     "output_type": "stream",
     "text": [
      "Overwriting mr_word_count.py\n"
     ]
    }
   ],
   "source": [
    "%%writefile mr_word_count.py\n",
    "from mrjob.job import MRJob\n",
    "\n",
    "class MRWordFrequencyCount(MRJob):\n",
    "\n",
    "    def mapper(self, _, line):\n",
    "        yield \"chars\", len(line)\n",
    "        yield \"words\", len(line.split())\n",
    "        yield \"lines\", 1\n",
    "\n",
    "    def reducer(self, key, values):\n",
    "        yield key, sum(values)\n",
    "        \n",
    "if __name__ == '__main__':\n",
    "    MRWordFrequencyCount.run()"
   ]
  },
  {
   "cell_type": "code",
   "execution_count": 4,
   "metadata": {},
   "outputs": [
    {
     "name": "stdout",
     "output_type": "stream",
     "text": [
      "No configs found; falling back on auto-configuration\n",
      "No configs specified for inline runner\n",
      "Creating temp directory /var/folders/11/8bxpvmg17yz34h8m15dhzk_r0000gp/T/mr_word_count.jeanalves.20201018.214917.376001\n",
      "Running step 1 of 1...\n",
      "job output is in /var/folders/11/8bxpvmg17yz34h8m15dhzk_r0000gp/T/mr_word_count.jeanalves.20201018.214917.376001/output\n",
      "Streaming final output from /var/folders/11/8bxpvmg17yz34h8m15dhzk_r0000gp/T/mr_word_count.jeanalves.20201018.214917.376001/output...\n",
      "\"words\"\t123\n",
      "\"lines\"\t11\n",
      "\"chars\"\t824\n",
      "Removing temp directory /var/folders/11/8bxpvmg17yz34h8m15dhzk_r0000gp/T/mr_word_count.jeanalves.20201018.214917.376001...\n"
     ]
    }
   ],
   "source": [
    "!python mr_word_count.py file01.txt"
   ]
  },
  {
   "cell_type": "markdown",
   "metadata": {},
   "source": [
    "### Job MapReduce para retorna a palavra que mais aparece no texto"
   ]
  },
  {
   "cell_type": "code",
   "execution_count": 5,
   "metadata": {},
   "outputs": [
    {
     "name": "stdout",
     "output_type": "stream",
     "text": [
      "Overwriting mr_word_max.py\n"
     ]
    }
   ],
   "source": [
    "%%writefile mr_word_max.py\n",
    "from mrjob.job import MRJob\n",
    "from mrjob.step import MRStep\n",
    "import re\n",
    "\n",
    "WORD_RE = re.compile(r\"[\\w']+\")\n",
    "\n",
    "\n",
    "class MRMostUsedWord(MRJob):\n",
    "\n",
    "    def mapper_get_words(self, _, line):\n",
    "        for word in WORD_RE.findall(line):\n",
    "            yield (word.lower(), 1)\n",
    "\n",
    "    def combiner_count_words(self, word, counts):\n",
    "        yield (word, sum(counts))\n",
    "\n",
    "    def reducer_count_words(self, word, counts):\n",
    "        yield None, (sum(counts), word)\n",
    "\n",
    "    def reducer_find_max_word(self, _, word_count_pairs):\n",
    "        yield max(word_count_pairs)\n",
    "\n",
    "    def steps(self):\n",
    "        return [\n",
    "            MRStep(\n",
    "                   mapper=self.mapper_get_words,\n",
    "                   combiner=self.combiner_count_words,\n",
    "                   reducer=self.reducer_count_words\n",
    "                  ),\n",
    "            MRStep(reducer=self.reducer_find_max_word)\n",
    "        ]\n",
    "\n",
    "\n",
    "if __name__ == '__main__':\n",
    "    MRMostUsedWord.run()"
   ]
  },
  {
   "cell_type": "code",
   "execution_count": 6,
   "metadata": {},
   "outputs": [
    {
     "name": "stdout",
     "output_type": "stream",
     "text": [
      "No configs found; falling back on auto-configuration\n",
      "No configs specified for local runner\n",
      "Creating temp directory /var/folders/11/8bxpvmg17yz34h8m15dhzk_r0000gp/T/mr_word_max.jeanalves.20201018.214924.787417\n",
      "Running step 1 of 2...\n",
      "Running step 2 of 2...\n",
      "job output is in /var/folders/11/8bxpvmg17yz34h8m15dhzk_r0000gp/T/mr_word_max.jeanalves.20201018.214924.787417/output\n",
      "Streaming final output from /var/folders/11/8bxpvmg17yz34h8m15dhzk_r0000gp/T/mr_word_max.jeanalves.20201018.214924.787417/output...\n",
      "8\t\"de\"\n",
      "Removing temp directory /var/folders/11/8bxpvmg17yz34h8m15dhzk_r0000gp/T/mr_word_max.jeanalves.20201018.214924.787417...\n"
     ]
    }
   ],
   "source": [
    "!python mr_word_max.py -r local file01.txt"
   ]
  },
  {
   "cell_type": "markdown",
   "metadata": {},
   "source": [
    "### Como executar o MRJob\n",
    "#### python sqlite_job.py -r local  --database=/etc/my_db.sqlite3\n",
    "### python sqlite_job.py -r hadoop --database=/etc/my_db.sqlite3\n",
    "### python sqlite_job.py -r hadoop --database=hdfs://my_dir/my_db.sqlite3\n",
    "### python sqlite_job.py -r emr    --database=/etc/my_db.sqlite3\n",
    "### python sqlite_job.py -r emr    --database=s3://my_bucket/my_db.sqlite3"
   ]
  },
  {
   "cell_type": "markdown",
   "metadata": {},
   "source": [
    "## Exercicio 01 \n",
    "### Faça um filtro que tire a palavra \"de\" e retorne a palavra que mais aparece no texto"
   ]
  },
  {
   "cell_type": "code",
   "execution_count": 11,
   "metadata": {},
   "outputs": [
    {
     "name": "stdout",
     "output_type": "stream",
     "text": [
      "Overwriting mr_word_filter.py\n"
     ]
    }
   ],
   "source": [
    "%%writefile mr_word_filter.py\n",
    "from mrjob.job import MRJob\n",
    "from mrjob.step import MRStep\n",
    "import re\n",
    "\n",
    "WORD_RE = re.compile(r\"[\\w']+\")\n",
    "\n",
    "\n",
    "class MRMostUsedWord(MRJob):\n",
    "\n",
    "    def mapper_get_words(self, _, line):\n",
    "        for word in WORD_RE.findall(line):\n",
    "            yield (word.lower(), 1)\n",
    "\n",
    "    def combiner_count_words(self, word, counts):\n",
    "        yield (word, sum(counts))\n",
    "\n",
    "    def reducer_count_words(self, word, counts):\n",
    "        yield None, (sum(counts), word)\n",
    "\n",
    "    def reducer_find_max_word(self, _, word_count_pairs):\n",
    "        yield max(word_count_pairs)\n",
    "\n",
    "    def steps(self):\n",
    "        return [\n",
    "            MRStep(mapper_pre_filter='grep -v \"de\"',\n",
    "                   mapper=self.mapper_get_words,\n",
    "                   combiner=self.combiner_count_words,\n",
    "                   reducer=self.reducer_count_words\n",
    "                  ),\n",
    "            MRStep(reducer=self.reducer_find_max_word)\n",
    "        ]\n",
    "\n",
    "\n",
    "if __name__ == '__main__':\n",
    "    MRMostUsedWord.run()"
   ]
  },
  {
   "cell_type": "code",
   "execution_count": 12,
   "metadata": {},
   "outputs": [
    {
     "name": "stdout",
     "output_type": "stream",
     "text": [
      "No configs found; falling back on auto-configuration\n",
      "No configs specified for local runner\n",
      "Creating temp directory /var/folders/11/8bxpvmg17yz34h8m15dhzk_r0000gp/T/mr_word_filter.jeanalves.20201018.215349.579366\n",
      "Running step 1 of 2...\n",
      "Running step 2 of 2...\n",
      "job output is in /var/folders/11/8bxpvmg17yz34h8m15dhzk_r0000gp/T/mr_word_filter.jeanalves.20201018.215349.579366/output\n",
      "Streaming final output from /var/folders/11/8bxpvmg17yz34h8m15dhzk_r0000gp/T/mr_word_filter.jeanalves.20201018.215349.579366/output...\n",
      "1\t\"wick\"\n",
      "Removing temp directory /var/folders/11/8bxpvmg17yz34h8m15dhzk_r0000gp/T/mr_word_filter.jeanalves.20201018.215349.579366...\n"
     ]
    }
   ],
   "source": [
    "!python mr_word_filter.py -r local file01.txt"
   ]
  },
  {
   "cell_type": "markdown",
   "metadata": {},
   "source": [
    "## Exercicio 02 \n",
    "### Crie um job que retorne a maior palavra"
   ]
  },
  {
   "cell_type": "code",
   "execution_count": 34,
   "metadata": {},
   "outputs": [
    {
     "name": "stdout",
     "output_type": "stream",
     "text": [
      "Overwriting mr_word_len.py\n"
     ]
    }
   ],
   "source": [
    "%%writefile mr_word_len.py\n",
    "# -*- coding: utf-8 -*-\n",
    "from mrjob.job import MRJob\n",
    "from mrjob.step import MRStep\n",
    "from mrjob.protocol import TextValueProtocol\n",
    "import re\n",
    "\n",
    "WORD_RE = re.compile(r\"[\\w']+\")\n",
    "\n",
    "\n",
    "class MRMostUsedWord(MRJob):\n",
    "    \n",
    "    OUTPUT_PROTOCOL = TextValueProtocol\n",
    "\n",
    "    def mapper_get_words(self, _, line):\n",
    "        for word in WORD_RE.findall(line):\n",
    "            yield (word.lower(), 1)\n",
    "\n",
    "    def combiner_count_words(self, word, counts):\n",
    "        yield (word, len(word))\n",
    "\n",
    "    def reducer_count_words(self, word, counts):\n",
    "        yield None, (len(word), word)\n",
    "\n",
    "    def reducer_find_max_word(self, _, word_count_pairs):\n",
    "        yield max(word_count_pairs)\n",
    "\n",
    "    def steps(self):\n",
    "        return [\n",
    "            MRStep(\n",
    "                   mapper=self.mapper_get_words,\n",
    "                   combiner=self.combiner_count_words,\n",
    "                   reducer=self.reducer_count_words\n",
    "                  ),\n",
    "            MRStep(reducer=self.reducer_find_max_word)\n",
    "        ]\n",
    "\n",
    "\n",
    "if __name__ == '__main__':\n",
    "    MRMostUsedWord.run()"
   ]
  },
  {
   "cell_type": "code",
   "execution_count": 36,
   "metadata": {},
   "outputs": [
    {
     "name": "stdout",
     "output_type": "stream",
     "text": [
      "No configs found; falling back on auto-configuration\n",
      "No configs specified for local runner\n",
      "Creating temp directory /var/folders/11/8bxpvmg17yz34h8m15dhzk_r0000gp/T/mr_word_len.jeanalves.20201018.220703.856670\n",
      "Running step 1 of 2...\n",
      "Running step 2 of 2...\n",
      "job output is in /var/folders/11/8bxpvmg17yz34h8m15dhzk_r0000gp/T/mr_word_len.jeanalves.20201018.220703.856670/output\n",
      "Streaming final output from /var/folders/11/8bxpvmg17yz34h8m15dhzk_r0000gp/T/mr_word_len.jeanalves.20201018.220703.856670/output...\n",
      "Removing temp directory /var/folders/11/8bxpvmg17yz34h8m15dhzk_r0000gp/T/mr_word_len.jeanalves.20201018.220703.856670...\n"
     ]
    }
   ],
   "source": [
    "!python mr_word_len.py -r local file01.txt > file02.txt"
   ]
  },
  {
   "cell_type": "code",
   "execution_count": null,
   "metadata": {},
   "outputs": [],
   "source": []
  }
 ],
 "metadata": {
  "kernelspec": {
   "display_name": "Python 3",
   "language": "python",
   "name": "python3"
  },
  "language_info": {
   "codemirror_mode": {
    "name": "ipython",
    "version": 3
   },
   "file_extension": ".py",
   "mimetype": "text/x-python",
   "name": "python",
   "nbconvert_exporter": "python",
   "pygments_lexer": "ipython3",
   "version": "3.7.3"
  }
 },
 "nbformat": 4,
 "nbformat_minor": 4
}
