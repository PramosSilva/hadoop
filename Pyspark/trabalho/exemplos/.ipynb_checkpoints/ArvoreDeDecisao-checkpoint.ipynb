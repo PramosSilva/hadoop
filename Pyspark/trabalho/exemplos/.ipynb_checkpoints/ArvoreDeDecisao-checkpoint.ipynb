{
 "cells": [
  {
   "cell_type": "code",
   "execution_count": 1,
   "metadata": {},
   "outputs": [],
   "source": [
    "from pyspark import SparkContext\n",
    "from pyspark.mllib.tree import DecisionTree, DecisionTreeModel\n",
    "from pyspark.mllib.regression import LabeledPoint\n",
    "from pyspark.mllib.util import MLUtils\n",
    "from pyspark.sql.types import StructType, IntegerType, DateType, StringType,StructField, FloatType\n",
    "from pyspark.ml.feature import VectorAssembler,StringIndexer\n",
    "from pyspark.sql.functions import col"
   ]
  },
  {
   "cell_type": "code",
   "execution_count": 2,
   "metadata": {},
   "outputs": [],
   "source": [
    "schema = StructType([StructField('sepal_length', FloatType()),\n",
    "                     StructField('sepal_width', FloatType()),\n",
    "                     StructField('petal_length', FloatType()),\n",
    "                     StructField('petal_width', FloatType()),\n",
    "                     StructField('class', StringType())\n",
    "                    ])"
   ]
  },
  {
   "cell_type": "code",
   "execution_count": 3,
   "metadata": {},
   "outputs": [],
   "source": [
    "data = spark.read \\\n",
    "        .schema(schema)\\\n",
    "        .format(\"csv\")\\\n",
    "        .option(\"header\",True)\\\n",
    "        .load(\"iris.txt\")"
   ]
  },
  {
   "cell_type": "code",
   "execution_count": 4,
   "metadata": {},
   "outputs": [
    {
     "name": "stdout",
     "output_type": "stream",
     "text": [
      "+------------+-----------+------------+-----------+-----------+\n",
      "|sepal_length|sepal_width|petal_length|petal_width|      class|\n",
      "+------------+-----------+------------+-----------+-----------+\n",
      "|         5.1|        3.5|         1.4|        0.2|Iris-setosa|\n",
      "|         4.9|        3.0|         1.4|        0.2|Iris-setosa|\n",
      "+------------+-----------+------------+-----------+-----------+\n",
      "only showing top 2 rows\n",
      "\n"
     ]
    }
   ],
   "source": [
    "data.show(2)"
   ]
  },
  {
   "cell_type": "code",
   "execution_count": 5,
   "metadata": {},
   "outputs": [
    {
     "name": "stdout",
     "output_type": "stream",
     "text": [
      "+---------------+\n",
      "|          class|\n",
      "+---------------+\n",
      "| Iris-virginica|\n",
      "|    Iris-setosa|\n",
      "|Iris-versicolor|\n",
      "+---------------+\n",
      "\n"
     ]
    }
   ],
   "source": [
    "data.select('class').distinct().show()"
   ]
  },
  {
   "cell_type": "code",
   "execution_count": 6,
   "metadata": {},
   "outputs": [],
   "source": [
    "labelIndexer = StringIndexer(inputCol=\"class\", outputCol=\"indexedLabel\").fit(data).transform(data)"
   ]
  },
  {
   "cell_type": "code",
   "execution_count": 7,
   "metadata": {},
   "outputs": [
    {
     "name": "stdout",
     "output_type": "stream",
     "text": [
      "+------------+-----------+------------+-----------+-----------+------------+\n",
      "|sepal_length|sepal_width|petal_length|petal_width|      class|indexedLabel|\n",
      "+------------+-----------+------------+-----------+-----------+------------+\n",
      "|         5.1|        3.5|         1.4|        0.2|Iris-setosa|         0.0|\n",
      "|         4.9|        3.0|         1.4|        0.2|Iris-setosa|         0.0|\n",
      "+------------+-----------+------------+-----------+-----------+------------+\n",
      "only showing top 2 rows\n",
      "\n"
     ]
    }
   ],
   "source": [
    "labelIndexer.show(2)"
   ]
  },
  {
   "cell_type": "code",
   "execution_count": 8,
   "metadata": {},
   "outputs": [],
   "source": [
    "assembler = VectorAssembler(\n",
    "    inputCols=[\"sepal_length\", \"sepal_width\", \"petal_length\",'petal_width'],\n",
    "    outputCol=\"features\").transform(labelIndexer)"
   ]
  },
  {
   "cell_type": "code",
   "execution_count": 9,
   "metadata": {},
   "outputs": [
    {
     "name": "stdout",
     "output_type": "stream",
     "text": [
      "+------------+-----------+------------+-----------+-----------+------------+--------------------+\n",
      "|sepal_length|sepal_width|petal_length|petal_width|      class|indexedLabel|            features|\n",
      "+------------+-----------+------------+-----------+-----------+------------+--------------------+\n",
      "|         5.1|        3.5|         1.4|        0.2|Iris-setosa|         0.0|[5.09999990463256...|\n",
      "|         4.9|        3.0|         1.4|        0.2|Iris-setosa|         0.0|[4.90000009536743...|\n",
      "+------------+-----------+------------+-----------+-----------+------------+--------------------+\n",
      "only showing top 2 rows\n",
      "\n"
     ]
    }
   ],
   "source": [
    "assembler.show(2)"
   ]
  },
  {
   "cell_type": "code",
   "execution_count": 10,
   "metadata": {},
   "outputs": [],
   "source": [
    "dfVector = MLUtils.convertVectorColumnsFromML(assembler, \"features\")"
   ]
  },
  {
   "cell_type": "code",
   "execution_count": 11,
   "metadata": {},
   "outputs": [],
   "source": [
    "data = (dfVector.select(col(\"indexedLabel\").alias(\"label\"), col(\"features\"))\n",
    "  .rdd\n",
    "  .map(lambda row: LabeledPoint(row.label, row.features)))"
   ]
  },
  {
   "cell_type": "code",
   "execution_count": 12,
   "metadata": {},
   "outputs": [],
   "source": [
    "(trainingData, testData) = data.randomSplit([0.7, 0.3])"
   ]
  },
  {
   "cell_type": "code",
   "execution_count": 13,
   "metadata": {},
   "outputs": [
    {
     "data": {
      "text/plain": [
       "[LabeledPoint(0.0, [5.099999904632568,3.5,1.399999976158142,0.20000000298023224]),\n",
       " LabeledPoint(0.0, [4.699999809265137,3.200000047683716,1.2999999523162842,0.20000000298023224]),\n",
       " LabeledPoint(0.0, [4.599999904632568,3.0999999046325684,1.5,0.20000000298023224]),\n",
       " LabeledPoint(0.0, [5.400000095367432,3.9000000953674316,1.7000000476837158,0.4000000059604645]),\n",
       " LabeledPoint(0.0, [5.0,3.4000000953674316,1.5,0.20000000298023224])]"
      ]
     },
     "execution_count": 13,
     "metadata": {},
     "output_type": "execute_result"
    }
   ],
   "source": [
    "trainingData.take(5)"
   ]
  },
  {
   "cell_type": "code",
   "execution_count": 14,
   "metadata": {},
   "outputs": [],
   "source": [
    "model = DecisionTree.trainClassifier(trainingData, numClasses=3, categoricalFeaturesInfo={},\n",
    "                                         impurity='gini', maxDepth=5, maxBins=32)"
   ]
  },
  {
   "cell_type": "code",
   "execution_count": 15,
   "metadata": {},
   "outputs": [],
   "source": [
    "predictions = model.predict(testData.map(lambda x: x.features))"
   ]
  },
  {
   "cell_type": "code",
   "execution_count": 16,
   "metadata": {},
   "outputs": [],
   "source": [
    "labelsAndPredictions = testData.map(lambda lp: lp.label).zip(predictions)"
   ]
  },
  {
   "cell_type": "code",
   "execution_count": 18,
   "metadata": {},
   "outputs": [],
   "source": [
    "testErr = labelsAndPredictions.filter(\n",
    "        lambda lp: lp[0] != lp[1]).count() / float(testData.count())"
   ]
  },
  {
   "cell_type": "code",
   "execution_count": 19,
   "metadata": {},
   "outputs": [
    {
     "name": "stdout",
     "output_type": "stream",
     "text": [
      "Test Error = 0.1590909090909091\n",
      "Learned classification tree model:\n",
      "DecisionTreeModel classifier of depth 5 with 13 nodes\n",
      "  If (feature 3 <= 0.800000011920929)\n",
      "   Predict: 0.0\n",
      "  Else (feature 3 > 0.800000011920929)\n",
      "   If (feature 3 <= 1.6500000357627869)\n",
      "    Predict: 1.0\n",
      "   Else (feature 3 > 1.6500000357627869)\n",
      "    If (feature 3 <= 1.75)\n",
      "     If (feature 0 <= 4.950000047683716)\n",
      "      Predict: 2.0\n",
      "     Else (feature 0 > 4.950000047683716)\n",
      "      Predict: 1.0\n",
      "    Else (feature 3 > 1.75)\n",
      "     If (feature 2 <= 4.8500001430511475)\n",
      "      If (feature 0 <= 5.950000047683716)\n",
      "       Predict: 1.0\n",
      "      Else (feature 0 > 5.950000047683716)\n",
      "       Predict: 2.0\n",
      "     Else (feature 2 > 4.8500001430511475)\n",
      "      Predict: 2.0\n",
      "\n"
     ]
    }
   ],
   "source": [
    "print('Test Error = ' + str(testErr))\n",
    "print('Learned classification tree model:')\n",
    "print(model.toDebugString())"
   ]
  },
  {
   "cell_type": "code",
   "execution_count": null,
   "metadata": {},
   "outputs": [],
   "source": [
    "#model.save(sc, \"DecisionTreeModel\")\n",
    "#sameModel = DecisionTreeModel.load(sc, \"DecisionTreeModel\")"
   ]
  },
  {
   "cell_type": "code",
   "execution_count": null,
   "metadata": {},
   "outputs": [],
   "source": []
  }
 ],
 "metadata": {
  "kernelspec": {
   "display_name": "Python 3",
   "language": "python",
   "name": "python3"
  },
  "language_info": {
   "codemirror_mode": {
    "name": "ipython",
    "version": 3
   },
   "file_extension": ".py",
   "mimetype": "text/x-python",
   "name": "python",
   "nbconvert_exporter": "python",
   "pygments_lexer": "ipython3",
   "version": "3.8.5"
  }
 },
 "nbformat": 4,
 "nbformat_minor": 2
}
