{
 "cells": [
  {
   "cell_type": "markdown",
   "metadata": {},
   "source": [
    "## Vaex"
   ]
  },
  {
   "cell_type": "markdown",
   "metadata": {},
   "source": [
    "### Vaex is a python library for lazy Out-of-Core DataFrames (similar to Pandas), to visualize and explore big tabular datasets. It can calculate statistics such as mean, sum, count, standard deviation etc, on an N-dimensional grid up to a billion (109) objects/rows per second. Visualization is done using histograms, density plots and 3d volume rendering, allowing interactive exploration of big data. Vaex uses memory mapping, a zero memory copy policy, and lazy computations for best performance (no memory wasted)."
   ]
  },
  {
   "cell_type": "markdown",
   "metadata": {},
   "source": [
    "### Documentação: https://vaex.readthedocs.io/en/latest/"
   ]
  },
  {
   "cell_type": "code",
   "execution_count": null,
   "metadata": {},
   "outputs": [],
   "source": [
    "!python3.7 -m pip install vaex"
   ]
  },
  {
   "cell_type": "code",
   "execution_count": null,
   "metadata": {},
   "outputs": [],
   "source": [
    "!python3.7 -m pip install lightgbm"
   ]
  },
  {
   "cell_type": "code",
   "execution_count": 1,
   "metadata": {},
   "outputs": [
    {
     "data": {
      "text/html": [
       "<table>\n",
       "<thead>\n",
       "<tr><th>#                            </th><th style=\"text-align: right;\">  sepal_length</th><th style=\"text-align: right;\">  sepal_width</th><th style=\"text-align: right;\">  petal_length</th><th style=\"text-align: right;\">  petal_width</th><th style=\"text-align: right;\">  class_</th></tr>\n",
       "</thead>\n",
       "<tbody>\n",
       "<tr><td><i style='opacity: 0.6'>0</i></td><td style=\"text-align: right;\">           5.9</td><td style=\"text-align: right;\">          3  </td><td style=\"text-align: right;\">           4.2</td><td style=\"text-align: right;\">          1.5</td><td style=\"text-align: right;\">       1</td></tr>\n",
       "<tr><td><i style='opacity: 0.6'>1</i></td><td style=\"text-align: right;\">           6.1</td><td style=\"text-align: right;\">          3  </td><td style=\"text-align: right;\">           4.6</td><td style=\"text-align: right;\">          1.4</td><td style=\"text-align: right;\">       1</td></tr>\n",
       "<tr><td><i style='opacity: 0.6'>2</i></td><td style=\"text-align: right;\">           6.6</td><td style=\"text-align: right;\">          2.9</td><td style=\"text-align: right;\">           4.6</td><td style=\"text-align: right;\">          1.3</td><td style=\"text-align: right;\">       1</td></tr>\n",
       "<tr><td><i style='opacity: 0.6'>3</i></td><td style=\"text-align: right;\">           6.7</td><td style=\"text-align: right;\">          3.3</td><td style=\"text-align: right;\">           5.7</td><td style=\"text-align: right;\">          2.1</td><td style=\"text-align: right;\">       2</td></tr>\n",
       "<tr><td><i style='opacity: 0.6'>4</i></td><td style=\"text-align: right;\">           5.5</td><td style=\"text-align: right;\">          4.2</td><td style=\"text-align: right;\">           1.4</td><td style=\"text-align: right;\">          0.2</td><td style=\"text-align: right;\">       0</td></tr>\n",
       "<tr><td><i style='opacity: 0.6'>5</i></td><td style=\"text-align: right;\">           5.1</td><td style=\"text-align: right;\">          3.4</td><td style=\"text-align: right;\">           1.5</td><td style=\"text-align: right;\">          0.2</td><td style=\"text-align: right;\">       0</td></tr>\n",
       "<tr><td><i style='opacity: 0.6'>6</i></td><td style=\"text-align: right;\">           6.3</td><td style=\"text-align: right;\">          2.3</td><td style=\"text-align: right;\">           4.4</td><td style=\"text-align: right;\">          1.3</td><td style=\"text-align: right;\">       1</td></tr>\n",
       "<tr><td><i style='opacity: 0.6'>7</i></td><td style=\"text-align: right;\">           5  </td><td style=\"text-align: right;\">          3.5</td><td style=\"text-align: right;\">           1.3</td><td style=\"text-align: right;\">          0.3</td><td style=\"text-align: right;\">       0</td></tr>\n",
       "<tr><td><i style='opacity: 0.6'>8</i></td><td style=\"text-align: right;\">           6.7</td><td style=\"text-align: right;\">          3.1</td><td style=\"text-align: right;\">           5.6</td><td style=\"text-align: right;\">          2.4</td><td style=\"text-align: right;\">       2</td></tr>\n",
       "<tr><td><i style='opacity: 0.6'>9</i></td><td style=\"text-align: right;\">           6  </td><td style=\"text-align: right;\">          2.2</td><td style=\"text-align: right;\">           4  </td><td style=\"text-align: right;\">          1  </td><td style=\"text-align: right;\">       1</td></tr>\n",
       "</tbody>\n",
       "</table>"
      ],
      "text/plain": [
       "  #    sepal_length    sepal_width    petal_length    petal_width    class_\n",
       "  0             5.9            3               4.2            1.5         1\n",
       "  1             6.1            3               4.6            1.4         1\n",
       "  2             6.6            2.9             4.6            1.3         1\n",
       "  3             6.7            3.3             5.7            2.1         2\n",
       "  4             5.5            4.2             1.4            0.2         0\n",
       "  5             5.1            3.4             1.5            0.2         0\n",
       "  6             6.3            2.3             4.4            1.3         1\n",
       "  7             5              3.5             1.3            0.3         0\n",
       "  8             6.7            3.1             5.6            2.4         2\n",
       "  9             6              2.2             4              1           1"
      ]
     },
     "execution_count": 1,
     "metadata": {},
     "output_type": "execute_result"
    }
   ],
   "source": [
    "import vaex\n",
    "import vaex.ml\n",
    "\n",
    "import pylab as plt\n",
    "\n",
    "\n",
    "df = vaex.ml.datasets.load_iris()\n",
    "df.head(10)"
   ]
  },
  {
   "cell_type": "code",
   "execution_count": 2,
   "metadata": {},
   "outputs": [
    {
     "name": "stderr",
     "output_type": "stream",
     "text": [
      "/Users/jeanalves/anaconda3/lib/python3.7/site-packages/vaex/ml/__init__.py:209: UserWarning: Make sure the DataFrame is shuffled\n",
      "  warnings.warn('Make sure the DataFrame is shuffled')\n"
     ]
    }
   ],
   "source": [
    "df.export(\"shuffled.hdf5\", shuffle=True)\n",
    "df = vaex.open(\"shuffled.hdf5\")\n",
    "df_train, df_test = df.ml.train_test_split(test_size=0.2)"
   ]
  },
  {
   "cell_type": "code",
   "execution_count": 3,
   "metadata": {},
   "outputs": [
    {
     "data": {
      "text/plain": [
       "['sepal_length', 'sepal_width', 'petal_length', 'petal_width']"
      ]
     },
     "execution_count": 3,
     "metadata": {},
     "output_type": "execute_result"
    }
   ],
   "source": [
    "features = df_train.column_names[:4]\n",
    "features"
   ]
  },
  {
   "cell_type": "code",
   "execution_count": 4,
   "metadata": {},
   "outputs": [
    {
     "data": {
      "text/html": [
       "<table>\n",
       "<thead>\n",
       "<tr><th>#                              </th><th>sepal_length  </th><th>sepal_width  </th><th>petal_length  </th><th>petal_width  </th><th>class_  </th><th>random_index  </th><th>PCA_0                </th><th>PCA_1               </th><th>PCA_2               </th><th>PCA_3                </th></tr>\n",
       "</thead>\n",
       "<tbody>\n",
       "<tr><td><i style='opacity: 0.6'>0</i>  </td><td>5.8           </td><td>2.7          </td><td>3.9           </td><td>1.2          </td><td>1       </td><td>78            </td><td>-0.018222084288481186</td><td>-0.3235052708555063 </td><td>0.1837022143444292  </td><td>0.06611091384145482  </td></tr>\n",
       "<tr><td><i style='opacity: 0.6'>1</i>  </td><td>6.7           </td><td>3.3          </td><td>5.7           </td><td>2.1          </td><td>2       </td><td>72            </td><td>-2.1658172406057297  </td><td>0.2941940746810152  </td><td>-0.2697038796661374 </td><td>-0.07778306449165195 </td></tr>\n",
       "<tr><td><i style='opacity: 0.6'>2</i>  </td><td>4.9           </td><td>3.1          </td><td>1.5           </td><td>0.1          </td><td>0       </td><td>145           </td><td>2.787990594917355    </td><td>-0.08841693229844566</td><td>0.21099795110923858 </td><td>-0.029590783600891846</td></tr>\n",
       "<tr><td><i style='opacity: 0.6'>3</i>  </td><td>5.8           </td><td>2.7          </td><td>5.1           </td><td>1.9          </td><td>2       </td><td>133           </td><td>-1.2939741461746659  </td><td>-0.6040979403527942 </td><td>-0.28054105899306186</td><td>-0.02445736746290056 </td></tr>\n",
       "<tr><td><i style='opacity: 0.6'>4</i>  </td><td>5.6           </td><td>2.9          </td><td>3.6           </td><td>1.3          </td><td>1       </td><td>65            </td><td>0.2913818447569352   </td><td>-0.2608728371903721 </td><td>-0.09250960003268069</td><td>0.1287975868376195   </td></tr>\n",
       "<tr><td>...                            </td><td>...           </td><td>...          </td><td>...           </td><td>...          </td><td>...     </td><td>...           </td><td>...                  </td><td>...                 </td><td>...                 </td><td>...                  </td></tr>\n",
       "<tr><td><i style='opacity: 0.6'>115</i></td><td>6.9           </td><td>3.1          </td><td>4.9           </td><td>1.5          </td><td>1       </td><td>42            </td><td>-1.356420482347309   </td><td>0.47826452437634603 </td><td>0.3442030059400766  </td><td>0.04101631713551046  </td></tr>\n",
       "<tr><td><i style='opacity: 0.6'>116</i></td><td>6.4           </td><td>3.2          </td><td>4.5           </td><td>1.5          </td><td>1       </td><td>3             </td><td>-0.8224633349262026  </td><td>0.29724389972743415 </td><td>0.026023022093870085</td><td>0.011304433161908406 </td></tr>\n",
       "<tr><td><i style='opacity: 0.6'>117</i></td><td>4.6           </td><td>3.4          </td><td>1.4           </td><td>0.3          </td><td>0       </td><td>77            </td><td>2.9351913136333163   </td><td>-0.06487365287140033</td><td>-0.2431103314969285 </td><td>-0.06912975262895615 </td></tr>\n",
       "<tr><td><i style='opacity: 0.6'>118</i></td><td>4.8           </td><td>3.0          </td><td>1.4           </td><td>0.1          </td><td>0       </td><td>129           </td><td>2.902993121978754    </td><td>-0.2076437774048363 </td><td>0.21568799943502487 </td><td>0.02078164558582496  </td></tr>\n",
       "<tr><td><i style='opacity: 0.6'>119</i></td><td>4.6           </td><td>3.2          </td><td>1.4           </td><td>0.2          </td><td>0       </td><td>61            </td><td>2.955965668371946    </td><td>-0.2021801971579636 </td><td>-0.06805013233907442</td><td>-0.06080714774298368 </td></tr>\n",
       "</tbody>\n",
       "</table>"
      ],
      "text/plain": [
       "#    sepal_length    sepal_width    petal_length    petal_width    class_    random_index    PCA_0                  PCA_1                 PCA_2                 PCA_3\n",
       "0    5.8             2.7            3.9             1.2            1         78              -0.018222084288481186  -0.3235052708555063   0.1837022143444292    0.06611091384145482\n",
       "1    6.7             3.3            5.7             2.1            2         72              -2.1658172406057297    0.2941940746810152    -0.2697038796661374   -0.07778306449165195\n",
       "2    4.9             3.1            1.5             0.1            0         145             2.787990594917355      -0.08841693229844566  0.21099795110923858   -0.029590783600891846\n",
       "3    5.8             2.7            5.1             1.9            2         133             -1.2939741461746659    -0.6040979403527942   -0.28054105899306186  -0.02445736746290056\n",
       "4    5.6             2.9            3.6             1.3            1         65              0.2913818447569352     -0.2608728371903721   -0.09250960003268069  0.1287975868376195\n",
       "...  ...             ...            ...             ...            ...       ...             ...                    ...                   ...                   ...\n",
       "115  6.9             3.1            4.9             1.5            1         42              -1.356420482347309     0.47826452437634603   0.3442030059400766    0.04101631713551046\n",
       "116  6.4             3.2            4.5             1.5            1         3               -0.8224633349262026    0.29724389972743415   0.026023022093870085  0.011304433161908406\n",
       "117  4.6             3.4            1.4             0.3            0         77              2.9351913136333163     -0.06487365287140033  -0.2431103314969285   -0.06912975262895615\n",
       "118  4.8             3.0            1.4             0.1            0         129             2.902993121978754      -0.2076437774048363   0.21568799943502487   0.02078164558582496\n",
       "119  4.6             3.2            1.4             0.2            0         61              2.955965668371946      -0.2021801971579636   -0.06805013233907442  -0.06080714774298368"
      ]
     },
     "execution_count": 4,
     "metadata": {},
     "output_type": "execute_result"
    }
   ],
   "source": [
    "pca = vaex.ml.PCA(features=features, n_components=4)\n",
    "df_train = pca.fit_transform(df_train)\n",
    "df_train"
   ]
  },
  {
   "cell_type": "code",
   "execution_count": 5,
   "metadata": {},
   "outputs": [
    {
     "data": {
      "text/html": [
       "<table>\n",
       "<thead>\n",
       "<tr><th>#                              </th><th>sepal_length  </th><th>sepal_width  </th><th>petal_length  </th><th>petal_width  </th><th>class_  </th><th>random_index  </th><th>PCA_0                </th><th>PCA_1               </th><th>PCA_2               </th><th>PCA_3                </th><th>prediction  </th></tr>\n",
       "</thead>\n",
       "<tbody>\n",
       "<tr><td><i style='opacity: 0.6'>0</i>  </td><td>5.8           </td><td>2.7          </td><td>3.9           </td><td>1.2          </td><td>1       </td><td>78            </td><td>-0.018222084288481186</td><td>-0.3235052708555063 </td><td>0.1837022143444292  </td><td>0.06611091384145482  </td><td>1           </td></tr>\n",
       "<tr><td><i style='opacity: 0.6'>1</i>  </td><td>6.7           </td><td>3.3          </td><td>5.7           </td><td>2.1          </td><td>2       </td><td>72            </td><td>-2.1658172406057297  </td><td>0.2941940746810152  </td><td>-0.2697038796661374 </td><td>-0.07778306449165195 </td><td>2           </td></tr>\n",
       "<tr><td><i style='opacity: 0.6'>2</i>  </td><td>4.9           </td><td>3.1          </td><td>1.5           </td><td>0.1          </td><td>0       </td><td>145           </td><td>2.787990594917355    </td><td>-0.08841693229844566</td><td>0.21099795110923858 </td><td>-0.029590783600891846</td><td>0           </td></tr>\n",
       "<tr><td><i style='opacity: 0.6'>3</i>  </td><td>5.8           </td><td>2.7          </td><td>5.1           </td><td>1.9          </td><td>2       </td><td>133           </td><td>-1.2939741461746659  </td><td>-0.6040979403527942 </td><td>-0.28054105899306186</td><td>-0.02445736746290056 </td><td>2           </td></tr>\n",
       "<tr><td><i style='opacity: 0.6'>4</i>  </td><td>5.6           </td><td>2.9          </td><td>3.6           </td><td>1.3          </td><td>1       </td><td>65            </td><td>0.2913818447569352   </td><td>-0.2608728371903721 </td><td>-0.09250960003268069</td><td>0.1287975868376195   </td><td>1           </td></tr>\n",
       "<tr><td>...                            </td><td>...           </td><td>...          </td><td>...           </td><td>...          </td><td>...     </td><td>...           </td><td>...                  </td><td>...                 </td><td>...                 </td><td>...                  </td><td>...         </td></tr>\n",
       "<tr><td><i style='opacity: 0.6'>115</i></td><td>6.9           </td><td>3.1          </td><td>4.9           </td><td>1.5          </td><td>1       </td><td>42            </td><td>-1.356420482347309   </td><td>0.47826452437634603 </td><td>0.3442030059400766  </td><td>0.04101631713551046  </td><td>1           </td></tr>\n",
       "<tr><td><i style='opacity: 0.6'>116</i></td><td>6.4           </td><td>3.2          </td><td>4.5           </td><td>1.5          </td><td>1       </td><td>3             </td><td>-0.8224633349262026  </td><td>0.29724389972743415 </td><td>0.026023022093870085</td><td>0.011304433161908406 </td><td>1           </td></tr>\n",
       "<tr><td><i style='opacity: 0.6'>117</i></td><td>4.6           </td><td>3.4          </td><td>1.4           </td><td>0.3          </td><td>0       </td><td>77            </td><td>2.9351913136333163   </td><td>-0.06487365287140033</td><td>-0.2431103314969285 </td><td>-0.06912975262895615 </td><td>0           </td></tr>\n",
       "<tr><td><i style='opacity: 0.6'>118</i></td><td>4.8           </td><td>3.0          </td><td>1.4           </td><td>0.1          </td><td>0       </td><td>129           </td><td>2.902993121978754    </td><td>-0.2076437774048363 </td><td>0.21568799943502487 </td><td>0.02078164558582496  </td><td>0           </td></tr>\n",
       "<tr><td><i style='opacity: 0.6'>119</i></td><td>4.6           </td><td>3.2          </td><td>1.4           </td><td>0.2          </td><td>0       </td><td>61            </td><td>2.955965668371946    </td><td>-0.2021801971579636 </td><td>-0.06805013233907442</td><td>-0.06080714774298368 </td><td>0           </td></tr>\n",
       "</tbody>\n",
       "</table>"
      ],
      "text/plain": [
       "#    sepal_length    sepal_width    petal_length    petal_width    class_    random_index    PCA_0                  PCA_1                 PCA_2                 PCA_3                  prediction\n",
       "0    5.8             2.7            3.9             1.2            1         78              -0.018222084288481186  -0.3235052708555063   0.1837022143444292    0.06611091384145482    1\n",
       "1    6.7             3.3            5.7             2.1            2         72              -2.1658172406057297    0.2941940746810152    -0.2697038796661374   -0.07778306449165195   2\n",
       "2    4.9             3.1            1.5             0.1            0         145             2.787990594917355      -0.08841693229844566  0.21099795110923858   -0.029590783600891846  0\n",
       "3    5.8             2.7            5.1             1.9            2         133             -1.2939741461746659    -0.6040979403527942   -0.28054105899306186  -0.02445736746290056   2\n",
       "4    5.6             2.9            3.6             1.3            1         65              0.2913818447569352     -0.2608728371903721   -0.09250960003268069  0.1287975868376195     1\n",
       "...  ...             ...            ...             ...            ...       ...             ...                    ...                   ...                   ...                    ...\n",
       "115  6.9             3.1            4.9             1.5            1         42              -1.356420482347309     0.47826452437634603   0.3442030059400766    0.04101631713551046    1\n",
       "116  6.4             3.2            4.5             1.5            1         3               -0.8224633349262026    0.29724389972743415   0.026023022093870085  0.011304433161908406   1\n",
       "117  4.6             3.4            1.4             0.3            0         77              2.9351913136333163     -0.06487365287140033  -0.2431103314969285   -0.06912975262895615   0\n",
       "118  4.8             3.0            1.4             0.1            0         129             2.902993121978754      -0.2076437774048363   0.21568799943502487   0.02078164558582496    0\n",
       "119  4.6             3.2            1.4             0.2            0         61              2.955965668371946      -0.2021801971579636   -0.06805013233907442  -0.06080714774298368   0"
      ]
     },
     "execution_count": 5,
     "metadata": {},
     "output_type": "execute_result"
    }
   ],
   "source": [
    "from sklearn.ensemble import RandomForestClassifier\n",
    "import vaex.ml.sklearn\n",
    "\n",
    "train_features = df_train.get_column_names(regex='PCA_.*')\n",
    "\n",
    "target = 'class_'\n",
    "\n",
    "randomForest = RandomForestClassifier(\n",
    "                                          max_depth=5,\n",
    "                                          n_estimators=100,\n",
    "                                          random_state=42)\n",
    "\n",
    "\n",
    "model = vaex.ml.sklearn.Predictor(features=train_features,\n",
    "                                  target=target,\n",
    "                                  model=randomForest,\n",
    "                                  prediction_name='prediction')\n",
    "\n",
    "\n",
    "model.fit(df=df_train)\n",
    "df_train = model.transform(df=df_train)\n",
    "\n",
    "df_train"
   ]
  },
  {
   "cell_type": "code",
   "execution_count": null,
   "metadata": {},
   "outputs": [],
   "source": []
  }
 ],
 "metadata": {
  "kernelspec": {
   "display_name": "Python 3",
   "language": "python",
   "name": "python3"
  },
  "language_info": {
   "codemirror_mode": {
    "name": "ipython",
    "version": 3
   },
   "file_extension": ".py",
   "mimetype": "text/x-python",
   "name": "python",
   "nbconvert_exporter": "python",
   "pygments_lexer": "ipython3",
   "version": "3.7.3"
  }
 },
 "nbformat": 4,
 "nbformat_minor": 4
}
