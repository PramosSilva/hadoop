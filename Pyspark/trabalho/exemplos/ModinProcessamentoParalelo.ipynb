{
 "cells": [
  {
   "cell_type": "markdown",
   "metadata": {},
   "source": [
    "## Modin"
   ]
  },
  {
   "cell_type": "markdown",
   "metadata": {},
   "source": [
    "### Scale your pandas workflow by changing a single line of code"
   ]
  },
  {
   "cell_type": "markdown",
   "metadata": {},
   "source": [
    "### Documentação: https://modin.readthedocs.io/en/latest/"
   ]
  },
  {
   "cell_type": "code",
   "execution_count": 3,
   "metadata": {},
   "outputs": [
    {
     "name": "stdout",
     "output_type": "stream",
     "text": [
      "Requirement already satisfied: modin in /Users/jeanalves/anaconda3/lib/python3.7/site-packages (0.8.1.1)\n",
      "Requirement already satisfied: pandas==1.1.2 in /Users/jeanalves/anaconda3/lib/python3.7/site-packages (from modin) (1.1.2)\n",
      "Requirement already satisfied: packaging in /Users/jeanalves/anaconda3/lib/python3.7/site-packages (from modin) (19.0)\n",
      "Requirement already satisfied: python-dateutil>=2.7.3 in /Users/jeanalves/anaconda3/lib/python3.7/site-packages (from pandas==1.1.2->modin) (2.8.0)\n",
      "Requirement already satisfied: pytz>=2017.2 in /Users/jeanalves/anaconda3/lib/python3.7/site-packages (from pandas==1.1.2->modin) (2019.1)\n",
      "Requirement already satisfied: numpy>=1.15.4 in /Users/jeanalves/anaconda3/lib/python3.7/site-packages (from pandas==1.1.2->modin) (1.16.4)\n",
      "Requirement already satisfied: pyparsing>=2.0.2 in /Users/jeanalves/anaconda3/lib/python3.7/site-packages (from packaging->modin) (2.4.0)\n",
      "Requirement already satisfied: six in /Users/jeanalves/anaconda3/lib/python3.7/site-packages (from packaging->modin) (1.12.0)\n"
     ]
    }
   ],
   "source": [
    "!pip install modin"
   ]
  },
  {
   "cell_type": "code",
   "execution_count": null,
   "metadata": {},
   "outputs": [],
   "source": [
    "import os\n",
    "os.environ[\"MODIN_CPUS\"] = \"4\"\n",
    "import modin.pandas as pd"
   ]
  }
 ],
 "metadata": {
  "kernelspec": {
   "display_name": "Python 3",
   "language": "python",
   "name": "python3"
  },
  "language_info": {
   "codemirror_mode": {
    "name": "ipython",
    "version": 3
   },
   "file_extension": ".py",
   "mimetype": "text/x-python",
   "name": "python",
   "nbconvert_exporter": "python",
   "pygments_lexer": "ipython3",
   "version": "3.7.3"
  }
 },
 "nbformat": 4,
 "nbformat_minor": 4
}
